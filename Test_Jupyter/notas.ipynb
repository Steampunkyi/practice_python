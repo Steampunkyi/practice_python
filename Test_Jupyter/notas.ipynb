{
 "cells": [
  {
   "cell_type": "code",
   "execution_count": 7,
   "metadata": {},
   "outputs": [
    {
     "name": "stdout",
     "output_type": "stream",
     "text": [
      "La masa molar de CH(CH2)2CO(CH2)2CH3 es 112.0\n"
     ]
    }
   ],
   "source": [
    "# Cálculo de la masa molar de una molécula\n",
    "\n",
    "# Masa de los elementos\n",
    "masas = {'C': 12.0, 'H': 1.0, 'O': 16.0}\n",
    "\n",
    "# Ingreso de la fórmula química\n",
    "formula = input(\"Ingrese la fórmula química: \")\n",
    "\n",
    "# Cálculo de la masa molar\n",
    "masa_molar = 0.0\n",
    "pila = []\n",
    "i = 0\n",
    "while i < len(formula):\n",
    "    if formula[i] in masas:\n",
    "        elemento = formula[i]\n",
    "        cantidad = 1\n",
    "        if i + 1 < len(formula) and formula[i + 1].isdigit():\n",
    "            cantidad = int(formula[i + 1])\n",
    "            i += 1\n",
    "        masa_molar += masas[elemento] * cantidad\n",
    "    elif formula[i] == '(':\n",
    "        pila.append(masa_molar)\n",
    "        masa_molar = 0.0\n",
    "    elif formula[i] == ')':\n",
    "        multiplicador = 1\n",
    "        if i + 1 < len(formula) and formula[i + 1].isdigit():\n",
    "            multiplicador = int(formula[i + 1])\n",
    "            i += 1\n",
    "        masa_molar = pila.pop() + masa_molar * multiplicador\n",
    "    i += 1\n",
    "\n",
    "# Impresión de la masa molar\n",
    "print(\"La masa molar de\", formula, \"es\", masa_molar)"
   ]
  }
 ],
 "metadata": {
  "kernelspec": {
   "display_name": "Python 3",
   "language": "python",
   "name": "python3"
  },
  "language_info": {
   "codemirror_mode": {
    "name": "ipython",
    "version": 3
   },
   "file_extension": ".py",
   "mimetype": "text/x-python",
   "name": "python",
   "nbconvert_exporter": "python",
   "pygments_lexer": "ipython3",
   "version": "3.11.9"
  },
  "orig_nbformat": 4
 },
 "nbformat": 4,
 "nbformat_minor": 2
}
